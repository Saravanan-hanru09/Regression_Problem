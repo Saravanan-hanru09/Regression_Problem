{
 "cells": [
  {
   "cell_type": "code",
   "execution_count": 3,
   "metadata": {},
   "outputs": [],
   "source": [
    "import numpy as np\n",
    "import pandas as pd"
   ]
  },
  {
   "cell_type": "code",
   "execution_count": 9,
   "metadata": {},
   "outputs": [],
   "source": [
    "# Step 1: Load the data\n",
    "train_data = pd.read_csv('p2_train.csv', header=None)\n",
    "test_data = pd.read_csv('p2_test.csv', header=None)"
   ]
  },
  {
   "cell_type": "code",
   "execution_count": 16,
   "metadata": {},
   "outputs": [
    {
     "name": "stdout",
     "output_type": "stream",
     "text": [
      "<class 'pandas.core.frame.DataFrame'>\n",
      "RangeIndex: 10000 entries, 0 to 9999\n",
      "Data columns (total 4 columns):\n",
      " #   Column  Non-Null Count  Dtype  \n",
      "---  ------  --------------  -----  \n",
      " 0   0       10000 non-null  float64\n",
      " 1   1       10000 non-null  float64\n",
      " 2   2       10000 non-null  float64\n",
      " 3   3       10000 non-null  float64\n",
      "dtypes: float64(4)\n",
      "memory usage: 312.6 KB\n"
     ]
    }
   ],
   "source": [
    "train_data.info()"
   ]
  },
  {
   "cell_type": "code",
   "execution_count": 15,
   "metadata": {},
   "outputs": [
    {
     "data": {
      "text/plain": [
       "(10000, 4)"
      ]
     },
     "execution_count": 15,
     "metadata": {},
     "output_type": "execute_result"
    }
   ],
   "source": [
    "train_data.shape"
   ]
  },
  {
   "cell_type": "code",
   "execution_count": 13,
   "metadata": {},
   "outputs": [
    {
     "data": {
      "text/html": [
       "<div>\n",
       "<style scoped>\n",
       "    .dataframe tbody tr th:only-of-type {\n",
       "        vertical-align: middle;\n",
       "    }\n",
       "\n",
       "    .dataframe tbody tr th {\n",
       "        vertical-align: top;\n",
       "    }\n",
       "\n",
       "    .dataframe thead th {\n",
       "        text-align: right;\n",
       "    }\n",
       "</style>\n",
       "<table border=\"1\" class=\"dataframe\">\n",
       "  <thead>\n",
       "    <tr style=\"text-align: right;\">\n",
       "      <th></th>\n",
       "      <th>0</th>\n",
       "      <th>1</th>\n",
       "      <th>2</th>\n",
       "      <th>3</th>\n",
       "    </tr>\n",
       "  </thead>\n",
       "  <tbody>\n",
       "    <tr>\n",
       "      <th>0</th>\n",
       "      <td>6.501996</td>\n",
       "      <td>-8.536983</td>\n",
       "      <td>3.422935</td>\n",
       "      <td>119980.220246</td>\n",
       "    </tr>\n",
       "    <tr>\n",
       "      <th>1</th>\n",
       "      <td>1.328383</td>\n",
       "      <td>8.943578</td>\n",
       "      <td>-8.145307</td>\n",
       "      <td>29890.224974</td>\n",
       "    </tr>\n",
       "    <tr>\n",
       "      <th>2</th>\n",
       "      <td>0.161478</td>\n",
       "      <td>-7.928351</td>\n",
       "      <td>1.628924</td>\n",
       "      <td>3245.579405</td>\n",
       "    </tr>\n",
       "    <tr>\n",
       "      <th>3</th>\n",
       "      <td>-8.989890</td>\n",
       "      <td>0.621330</td>\n",
       "      <td>-2.322925</td>\n",
       "      <td>411824.663771</td>\n",
       "    </tr>\n",
       "    <tr>\n",
       "      <th>4</th>\n",
       "      <td>5.185118</td>\n",
       "      <td>7.902611</td>\n",
       "      <td>7.559619</td>\n",
       "      <td>176097.137744</td>\n",
       "    </tr>\n",
       "  </tbody>\n",
       "</table>\n",
       "</div>"
      ],
      "text/plain": [
       "          0         1         2              3\n",
       "0  6.501996 -8.536983  3.422935  119980.220246\n",
       "1  1.328383  8.943578 -8.145307   29890.224974\n",
       "2  0.161478 -7.928351  1.628924    3245.579405\n",
       "3 -8.989890  0.621330 -2.322925  411824.663771\n",
       "4  5.185118  7.902611  7.559619  176097.137744"
      ]
     },
     "execution_count": 13,
     "metadata": {},
     "output_type": "execute_result"
    }
   ],
   "source": [
    "train_data.head()"
   ]
  },
  {
   "cell_type": "markdown",
   "metadata": {},
   "source": [
    "### Cleaning Dataset"
   ]
  },
  {
   "cell_type": "code",
   "execution_count": 17,
   "metadata": {},
   "outputs": [
    {
     "data": {
      "text/html": [
       "<div>\n",
       "<style scoped>\n",
       "    .dataframe tbody tr th:only-of-type {\n",
       "        vertical-align: middle;\n",
       "    }\n",
       "\n",
       "    .dataframe tbody tr th {\n",
       "        vertical-align: top;\n",
       "    }\n",
       "\n",
       "    .dataframe thead th {\n",
       "        text-align: right;\n",
       "    }\n",
       "</style>\n",
       "<table border=\"1\" class=\"dataframe\">\n",
       "  <thead>\n",
       "    <tr style=\"text-align: right;\">\n",
       "      <th></th>\n",
       "      <th>0</th>\n",
       "      <th>1</th>\n",
       "      <th>2</th>\n",
       "      <th>3</th>\n",
       "    </tr>\n",
       "  </thead>\n",
       "  <tbody>\n",
       "    <tr>\n",
       "      <th>count</th>\n",
       "      <td>10000.000000</td>\n",
       "      <td>10000.000000</td>\n",
       "      <td>10000.000000</td>\n",
       "      <td>1.000000e+04</td>\n",
       "    </tr>\n",
       "    <tr>\n",
       "      <th>mean</th>\n",
       "      <td>0.037700</td>\n",
       "      <td>-0.094496</td>\n",
       "      <td>0.000732</td>\n",
       "      <td>1.595370e+05</td>\n",
       "    </tr>\n",
       "    <tr>\n",
       "      <th>std</th>\n",
       "      <td>5.808542</td>\n",
       "      <td>5.804865</td>\n",
       "      <td>5.751570</td>\n",
       "      <td>2.523426e+05</td>\n",
       "    </tr>\n",
       "    <tr>\n",
       "      <th>min</th>\n",
       "      <td>-9.997617</td>\n",
       "      <td>-9.997204</td>\n",
       "      <td>-9.999185</td>\n",
       "      <td>1.139218e-06</td>\n",
       "    </tr>\n",
       "    <tr>\n",
       "      <th>25%</th>\n",
       "      <td>-5.008387</td>\n",
       "      <td>-5.111134</td>\n",
       "      <td>-4.955493</td>\n",
       "      <td>5.636481e+03</td>\n",
       "    </tr>\n",
       "    <tr>\n",
       "      <th>50%</th>\n",
       "      <td>0.083940</td>\n",
       "      <td>-0.240101</td>\n",
       "      <td>-0.085404</td>\n",
       "      <td>4.651950e+04</td>\n",
       "    </tr>\n",
       "    <tr>\n",
       "      <th>75%</th>\n",
       "      <td>5.023999</td>\n",
       "      <td>4.992062</td>\n",
       "      <td>5.014795</td>\n",
       "      <td>1.958409e+05</td>\n",
       "    </tr>\n",
       "    <tr>\n",
       "      <th>max</th>\n",
       "      <td>9.999251</td>\n",
       "      <td>9.997870</td>\n",
       "      <td>9.999567</td>\n",
       "      <td>2.187305e+06</td>\n",
       "    </tr>\n",
       "  </tbody>\n",
       "</table>\n",
       "</div>"
      ],
      "text/plain": [
       "                  0             1             2             3\n",
       "count  10000.000000  10000.000000  10000.000000  1.000000e+04\n",
       "mean       0.037700     -0.094496      0.000732  1.595370e+05\n",
       "std        5.808542      5.804865      5.751570  2.523426e+05\n",
       "min       -9.997617     -9.997204     -9.999185  1.139218e-06\n",
       "25%       -5.008387     -5.111134     -4.955493  5.636481e+03\n",
       "50%        0.083940     -0.240101     -0.085404  4.651950e+04\n",
       "75%        5.023999      4.992062      5.014795  1.958409e+05\n",
       "max        9.999251      9.997870      9.999567  2.187305e+06"
      ]
     },
     "execution_count": 17,
     "metadata": {},
     "output_type": "execute_result"
    }
   ],
   "source": [
    "# By using describe function checking for min, max, percentaile and outliers\n",
    "train_data.describe()"
   ]
  },
  {
   "cell_type": "code",
   "execution_count": 18,
   "metadata": {},
   "outputs": [
    {
     "data": {
      "text/plain": [
       "0    0\n",
       "1    0\n",
       "2    0\n",
       "3    0\n",
       "dtype: int64"
      ]
     },
     "execution_count": 18,
     "metadata": {},
     "output_type": "execute_result"
    }
   ],
   "source": [
    "#checking for null values\n",
    "train_data.isnull().sum()\n",
    "# both columns null count is 0 so no null values in dataset"
   ]
  },
  {
   "cell_type": "code",
   "execution_count": 19,
   "metadata": {},
   "outputs": [
    {
     "data": {
      "text/plain": [
       "0"
      ]
     },
     "execution_count": 19,
     "metadata": {},
     "output_type": "execute_result"
    }
   ],
   "source": [
    "#ckecking for duplicate\n",
    "train_data.duplicated().sum()\n",
    "\n",
    "# count is zero so no duplicate"
   ]
  },
  {
   "cell_type": "code",
   "execution_count": 20,
   "metadata": {},
   "outputs": [
    {
     "data": {
      "text/plain": [
       "0    float64\n",
       "1    float64\n",
       "2    float64\n",
       "3    float64\n",
       "dtype: object"
      ]
     },
     "execution_count": 20,
     "metadata": {},
     "output_type": "execute_result"
    }
   ],
   "source": [
    "#checking for datatype in right format or not\n",
    "train_data.dtypes\n",
    "\n",
    "#datatype also in the right format and and also a strctured data."
   ]
  },
  {
   "cell_type": "code",
   "execution_count": 24,
   "metadata": {},
   "outputs": [],
   "source": [
    "#Split the data\n",
    "X_train = train_data.iloc[:, :-1]\n",
    "y_train = train_data.iloc[:, -1]\n",
    "\n",
    "X_test = test_data.iloc[:, :-1]\n",
    "y_test = test_data.iloc[:, -1]"
   ]
  },
  {
   "cell_type": "code",
   "execution_count": 54,
   "metadata": {},
   "outputs": [],
   "source": [
    "from sklearn.metrics import mean_squared_error, mean_absolute_error\n",
    "\n",
    "def evaluate_model(model,X_train,y_train,X_test,y_test):\n",
    "    #Fit the model on the training data\n",
    "    model.fit(X_train,y_train)\n",
    "\n",
    "    #predict the labels for the test data\n",
    "    y_pred = model.predict(X_test)\n",
    "\n",
    "    # Calculate mse and mae\n",
    "\n",
    "    mse = mean_squared_error(y_test, y_pred)\n",
    "    mae = mean_absolute_error(y_test, y_pred)\n",
    "    \n",
    "    # Return evaluation metrics\n",
    "    return model,mse,mae"
   ]
  },
  {
   "cell_type": "code",
   "execution_count": 55,
   "metadata": {},
   "outputs": [],
   "source": [
    "from sklearn.svm import SVR\n",
    "from sklearn.tree import DecisionTreeRegressor\n",
    "from sklearn.ensemble import RandomForestRegressor"
   ]
  },
  {
   "cell_type": "code",
   "execution_count": 56,
   "metadata": {},
   "outputs": [
    {
     "name": "stdout",
     "output_type": "stream",
     "text": [
      "SVR()'s Metrics: \n",
      "MSE: 77888697059.8716, MAE: 150475.5911\n",
      "\n"
     ]
    }
   ],
   "source": [
    "# Step 3: Train nonlinear regression models\n",
    "# Support Vector Regression (SVR)\n",
    "svr_regressor = SVR()\n",
    "svr_model, svr_mse, svr_mae= evaluate_model(svr_regressor, X_train, y_train, X_test, y_test)\n",
    "print(f\"{svr_model}'s Metrics: \")\n",
    "print(f\"MSE: {svr_mse:.4f}, MAE: {svr_mae:.4f}\")\n",
    "print()"
   ]
  },
  {
   "cell_type": "code",
   "execution_count": 58,
   "metadata": {},
   "outputs": [
    {
     "name": "stdout",
     "output_type": "stream",
     "text": [
      "DecisionTreeRegressor()'s Metrics: \n",
      "MSE: 777953396.4090, MAE: 13759.5166\n",
      "\n"
     ]
    }
   ],
   "source": [
    "dt_regressor = DecisionTreeRegressor()\n",
    "dt_model, dt_mse, dt_mae= evaluate_model(dt_regressor, X_train, y_train, X_test, y_test)\n",
    "print(f\"{dt_model}'s Metrics: \")\n",
    "print(f\"MSE: {dt_mse:.4f}, MAE: {dt_mae:.4f}\")\n",
    "print()"
   ]
  },
  {
   "cell_type": "code",
   "execution_count": 59,
   "metadata": {},
   "outputs": [
    {
     "name": "stdout",
     "output_type": "stream",
     "text": [
      "RandomForestRegressor()'s Metrics: \n",
      "MSE: 316567724.3849, MAE: 8792.7192\n",
      "\n"
     ]
    }
   ],
   "source": [
    "# Random Forest Regression\n",
    "rf_regressor = RandomForestRegressor()\n",
    "rf_model, rf_mse, rf_mae= evaluate_model(rf_regressor, X_train, y_train, X_test, y_test)\n",
    "print(f\"{rf_model}'s Metrics: \")\n",
    "print(f\"MSE: {rf_mse:.4f}, MAE: {rf_mae:.4f}\")\n",
    "print()"
   ]
  },
  {
   "cell_type": "code",
   "execution_count": 60,
   "metadata": {},
   "outputs": [
    {
     "name": "stdout",
     "output_type": "stream",
     "text": [
      "LinearRegression()'s Metrics: \n",
      "MSE: 62332720766.1898, MAE: 172939.2987\n",
      "\n"
     ]
    }
   ],
   "source": [
    "from sklearn.linear_model import LinearRegression\n",
    "\n",
    "# Initialize the Linear Regression model\n",
    "linear_reg_model = LinearRegression()\n",
    "lr_model, lr_mse, lr_mae= evaluate_model(linear_reg_model, X_train, y_train, X_test, y_test)\n",
    "print(f\"{lr_model}'s Metrics: \")\n",
    "print(f\"MSE: {lr_mse:.4f}, MAE: {lr_mae:.4f}\")\n",
    "print()"
   ]
  },
  {
   "cell_type": "code",
   "execution_count": 62,
   "metadata": {},
   "outputs": [
    {
     "data": {
      "image/png": "[encoded data removed]",
      "text/plain": [
       "<Figure size 1000x500 with 1 Axes>"
      ]
     },
     "metadata": {},
     "output_type": "display_data"
    },
    {
     "data": {
      "image/png": "[encoded data removed]",
      "text/plain": [
       "<Figure size 1000x500 with 1 Axes>"
      ]
     },
     "metadata": {},
     "output_type": "display_data"
    }
   ],
   "source": [
    "import matplotlib.pyplot as plt\n",
    "\n",
    "# List of model names and corresponding MSE and MAE\n",
    "model_names = ['SVR','Decision Tree', 'Random Forest','Linear Regression']\n",
    "mse_values = [svr_mse, dt_mse, rf_mse, lr_mse]\n",
    "mae_values = [svr_mae, dt_mae, rf_mae, lr_mae]\n",
    "\n",
    "# Plotting MSE for each model\n",
    "plt.figure(figsize=(10, 5))\n",
    "plt.bar(model_names, mse_values, color='skyblue')\n",
    "plt.title('Mean Squared Error (MSE) for Each Model')\n",
    "plt.xlabel('Model')\n",
    "plt.ylabel('MSE')\n",
    "plt.xticks(rotation=45)\n",
    "plt.show()\n",
    "\n",
    "# Plotting MAE for each model\n",
    "plt.figure(figsize=(10, 5))\n",
    "plt.bar(model_names, mae_values, color='lightgreen')\n",
    "plt.title('Mean Absolute Error (MAE) for Each Model')\n",
    "plt.xlabel('Model')\n",
    "plt.ylabel('MAE')\n",
    "plt.xticks(rotation=45)\n",
    "plt.show()"
   ]
  }
 ],
 "metadata": {
  "kernelspec": {
   "display_name": ".venv",
   "language": "python",
   "name": "python3"
  },
  "language_info": {
   "codemirror_mode": {
    "name": "ipython",
    "version": 3
   },
   "file_extension": ".py",
   "mimetype": "text/x-python",
   "name": "python",
   "nbconvert_exporter": "python",
   "pygments_lexer": "ipython3",
   "version": "3.12.1"
  }
 },
 "nbformat": 4,
 "nbformat_minor": 2
}
